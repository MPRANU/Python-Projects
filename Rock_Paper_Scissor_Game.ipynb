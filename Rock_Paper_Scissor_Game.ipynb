{
 "cells": [
  {
   "cell_type": "code",
   "execution_count": 1,
   "id": "11f44d68",
   "metadata": {},
   "outputs": [
    {
     "name": "stdout",
     "output_type": "stream",
     "text": [
      "What do you choose? Type 0 for Rock, 1 for Paper or 2 for Scissors.0\n",
      "\n",
      "    _______\n",
      "---'   ____)\n",
      "      (_____)\n",
      "      (_____)\n",
      "      (____)\n",
      "---.__(___)\n",
      "\n",
      "Computer Chose:\n",
      "\n",
      "    _______\n",
      "---'   ____)____\n",
      "          ______)\n",
      "       __________)\n",
      "      (____)\n",
      "---.__(___)\n",
      "\n",
      "You win!!!\n"
     ]
    }
   ],
   "source": [
    "rock = '''\n",
    "    _______\n",
    "---'   ____)\n",
    "      (_____)\n",
    "      (_____)\n",
    "      (____)\n",
    "---.__(___)\n",
    "'''\n",
    "\n",
    "paper = '''\n",
    "    _______\n",
    "---'   ____)____\n",
    "          ______)\n",
    "          _______)\n",
    "         _______)\n",
    "---.__________)\n",
    "'''\n",
    "\n",
    "scissors = '''\n",
    "    _______\n",
    "---'   ____)____\n",
    "          ______)\n",
    "       __________)\n",
    "      (____)\n",
    "---.__(___)\n",
    "'''\n",
    "\n",
    "#Write your code below this line 👇\n",
    "import random\n",
    "c1=input(\"What do you choose? Type 0 for Rock, 1 for Paper or 2 for Scissors.\")\n",
    "if c1==\"0\":\n",
    "  print(rock)\n",
    "elif c1==\"1\":\n",
    "  print(paper)\n",
    "elif c1==\"2\":\n",
    "  print(scissors)\n",
    "else:\n",
    "  exit(0)\n",
    "\n",
    "print(\"Computer Chose:\")\n",
    "c2=str(random.randint(0,2))\n",
    "if c2==\"0\":\n",
    "  print(rock)\n",
    "elif c2==\"1\":\n",
    "  print(paper)\n",
    "elif c2==\"2\":\n",
    "  print(scissors)\n",
    "else:\n",
    "  exit(0)\n",
    "\n",
    "\n",
    "if (c1==\"0\" and c2==\"2\")or(c1==\"1\" and c2==\"0\")or(c1==\"2\" and c2==\"1\"):\n",
    "  print(\"You win!!!\")\n",
    "else:\n",
    "  print(\"You lose\")"
   ]
  },
  {
   "cell_type": "code",
   "execution_count": null,
   "id": "4e50b2ed",
   "metadata": {},
   "outputs": [],
   "source": []
  }
 ],
 "metadata": {
  "kernelspec": {
   "display_name": "Python 3",
   "language": "python",
   "name": "python3"
  },
  "language_info": {
   "codemirror_mode": {
    "name": "ipython",
    "version": 3
   },
   "file_extension": ".py",
   "mimetype": "text/x-python",
   "name": "python",
   "nbconvert_exporter": "python",
   "pygments_lexer": "ipython3",
   "version": "3.8.8"
  }
 },
 "nbformat": 4,
 "nbformat_minor": 5
}
