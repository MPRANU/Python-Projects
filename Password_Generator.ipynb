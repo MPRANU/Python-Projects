{
 "cells": [
  {
   "cell_type": "code",
   "execution_count": 4,
   "id": "dc0130ae",
   "metadata": {},
   "outputs": [
    {
     "name": "stdout",
     "output_type": "stream",
     "text": [
      " ____  _  _ ____   ___   __   __  __    __   ___   ____  ____        ___   ____ __  __  ____ ____   ___  ______   ___   ____ \n",
      " || \\ \\// || \\ // \\ (( \\ (( \\ ||    ||  // \\  || \\ || \\      // \\ ||    ||\\ || ||    || \\ // \\ | || |  // \\  || \\\n",
      " ||_//  )/  ||_// ||=||  \\   \\  \\ /\\ // ((   )) ||_// ||  ))    (( ___ ||==  ||\\|| ||==  ||_// ||=||   ||   ((   )) ||_//\n",
      " ||    //   ||    || || \\_)) \\_))  \\V/\\V/   \\_//  || \\ ||_//      \\_|| ||___ || \\|| ||___ || \\ || ||   ||    \\_//  || \\\n",
      "                                                                                                                              \n",
      "Welcome to the PyPassword Generator!\n",
      "How many letters would you like in your password?\n",
      "4\n",
      "How many symbols would you like?\n",
      "3\n",
      "How many numbers would you like?\n",
      "5\n",
      "Your password is: &%3T2K2c56b(\n"
     ]
    }
   ],
   "source": [
    "#Password Generator Project\n",
    "import random\n",
    "letters = ['a', 'b', 'c', 'd', 'e', 'f', 'g', 'h', 'i', 'j', 'k', 'l', 'm', 'n', 'o', 'p', 'q', 'r', 's', 't', 'u', 'v', 'w', 'x', 'y', 'z', 'A', 'B', 'C', 'D', 'E', 'F', 'G', 'H', 'I', 'J', 'K', 'L', 'M', 'N', 'O', 'P', 'Q', 'R', 'S', 'T', 'U', 'V', 'W', 'X', 'Y', 'Z']\n",
    "numbers = ['0', '1', '2', '3', '4', '5', '6', '7', '8', '9']\n",
    "symbols = ['!', '#', '$', '%', '&', '(', ')', '*', '+']\n",
    "print(''' ____  _  _ ____   ___   __   __  __    __   ___   ____  ____        ___   ____ __  __  ____ ____   ___  ______   ___   ____ \n",
    " || \\\\ \\\\// || \\\\ // \\\\ (( \\ (( \\ ||    ||  // \\\\  || \\\\ || \\\\      // \\\\ ||    ||\\ || ||    || \\\\ // \\\\ | || |  // \\\\  || \\\\\n",
    " ||_//  )/  ||_// ||=||  \\\\   \\\\  \\\\ /\\ // ((   )) ||_// ||  ))    (( ___ ||==  ||\\\\|| ||==  ||_// ||=||   ||   ((   )) ||_//\n",
    " ||    //   ||    || || \\_)) \\_))  \\V/\\V/   \\\\_//  || \\\\ ||_//      \\\\_|| ||___ || \\|| ||___ || \\\\ || ||   ||    \\\\_//  || \\\\\n",
    "                                                                                                                              ''')\n",
    "print(\"Welcome to the PyPassword Generator!\")\n",
    "nr_letters= int(input(\"How many letters would you like in your password?\\n\")) \n",
    "nr_symbols = int(input(f\"How many symbols would you like?\\n\"))\n",
    "nr_numbers = int(input(f\"How many numbers would you like?\\n\"))\n",
    "\n",
    "#Eazy Level - Order not randomised:\n",
    "#e.g. 4 letter, 2 symbol, 2 number = JduE&!91\n",
    "\n",
    "\n",
    "#Hard Level - Order of characters randomised:\n",
    "#e.g. 4 letter, 2 symbol, 2 number = g^2jk8&P\n",
    "tl=nr_letters+nr_symbols+nr_numbers\n",
    "pws=[]\n",
    "\n",
    "for j in range(1,nr_letters+1):\n",
    "  a=(random.choice(letters))\n",
    "  pws.append(a)\n",
    "for j in range(1,nr_symbols+1):\n",
    "  b=(random.choice(symbols))\n",
    "  pws.append(b)\n",
    "for j in range(1,nr_numbers+1):\n",
    "  c=(random.choice(numbers))\n",
    "  pws.append(c)\n",
    "\n",
    "\n",
    "# print(pws)\n",
    "(random.shuffle(pws))\n",
    "# print(pws)\n",
    "\n",
    "password=\"\"\n",
    "for i in range(0,tl):\n",
    "  password+=pws[i]\n",
    "print(\"Your password is:\",password)"
   ]
  },
  {
   "cell_type": "code",
   "execution_count": null,
   "id": "dc6c33cf",
   "metadata": {},
   "outputs": [],
   "source": []
  },
  {
   "cell_type": "code",
   "execution_count": null,
   "id": "f617f268",
   "metadata": {},
   "outputs": [],
   "source": []
  }
 ],
 "metadata": {
  "kernelspec": {
   "display_name": "Python 3",
   "language": "python",
   "name": "python3"
  },
  "language_info": {
   "codemirror_mode": {
    "name": "ipython",
    "version": 3
   },
   "file_extension": ".py",
   "mimetype": "text/x-python",
   "name": "python",
   "nbconvert_exporter": "python",
   "pygments_lexer": "ipython3",
   "version": "3.8.8"
  }
 },
 "nbformat": 4,
 "nbformat_minor": 5
}
