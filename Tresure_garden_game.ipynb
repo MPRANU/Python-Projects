{
 "cells": [
  {
   "cell_type": "code",
   "execution_count": 2,
   "id": "4aa57de7",
   "metadata": {},
   "outputs": [
    {
     "name": "stdout",
     "output_type": "stream",
     "text": [
      "\n",
      "*******************************************************************************\n",
      "                     _            \n",
      "                    | |           \n",
      "  __ _  __ _ _ __ __| | ___ _ __  \n",
      " / _` |/ _` | '__/ _` |/ _ \\ '_ \\ \n",
      "| (_| | (_| | | | (_| |  __/ | | |\n",
      " \\__, |\\__,_|_|  \\__,_|\\___|_| |_|\n",
      "  __/ |                           \n",
      " |___/                                                  _\n",
      "                  _\n",
      "               _(_)_                          wWWWw   _\n",
      "   @@@@       (_)@(_)   vVVVv     _     @@@@  (___) _(_)_\n",
      "  @@()@@ wWWWw  (_)\\    (___)   _(_)_  @@()@@   Y  (_)@(_)\n",
      "   @@@@  (___)     `|/    Y    (_)@(_)  @@@@   \\|/   (_)    /      Y       \\|    \\|/    /(_)    \\|      |/      |\n",
      " \\ |     \\ |/       | / \\ | /  \\|/       |/    \\|      \\|/\n",
      "jgs|//   \\|///  \\\\|//\\\\|/// \\|///  \\\\|//  \\|//  \\\\|//\n",
      "^^^^^^^^^^^^^^^^^^^^^^^^^^^^^^^^^^^^^^^^^^^^^^^^^^^^^^^^^^^^^\n",
      "\n",
      "\n",
      "Welcome to Love garden.\n",
      "Your mission is to find favoriate color flower in garden\n",
      "You're at a crossroad. Where do you want to go? Type \"left\" or \"right\"left\n",
      "You've come to a Garden. There is an Giant statue in the middle of the Garden. Type \"wait\" to wait for a Guide. Type \"move\" to move across.wait\n",
      "You arrive at the Garden unharmed. There is a park with 3 color flowers. One red, one yellow and one blue. Which colour do you choose?red\n",
      "It's a lovely rose . You win !!!\n"
     ]
    }
   ],
   "source": [
    "print('''\n",
    "*******************************************************************************\n",
    "                     _            \n",
    "                    | |           \n",
    "  __ _  __ _ _ __ __| | ___ _ __  \n",
    " / _` |/ _` | '__/ _` |/ _ \\ '_ \\ \n",
    "| (_| | (_| | | | (_| |  __/ | | |\n",
    " \\__, |\\__,_|_|  \\__,_|\\___|_| |_|\n",
    "  __/ |                           \n",
    " |___/                                                  _\n",
    "                  _\n",
    "               _(_)_                          wWWWw   _\n",
    "   @@@@       (_)@(_)   vVVVv     _     @@@@  (___) _(_)_\n",
    "  @@()@@ wWWWw  (_)\\    (___)   _(_)_  @@()@@   Y  (_)@(_)\n",
    "   @@@@  (___)     `|/    Y    (_)@(_)  @@@@   \\|/   (_)\\\n",
    "    /      Y       \\|    \\|/    /(_)    \\|      |/      |\n",
    " \\ |     \\ |/       | / \\ | /  \\|/       |/    \\|      \\|/\n",
    "jgs|//   \\\\|///  \\\\\\|//\\\\\\|/// \\|///  \\\\\\|//  \\\\|//  \\\\\\|//\n",
    "^^^^^^^^^^^^^^^^^^^^^^^^^^^^^^^^^^^^^^^^^^^^^^^^^^^^^^^^^^^^^\n",
    "\n",
    "''')\n",
    "print(\"Welcome to Love garden.\")\n",
    "print(\"Your mission is to find favoriate color flower in garden\")\n",
    "\n",
    "\n",
    "lr = input(\n",
    "    'You\\'re at a crossroad. Where do you want to go? Type \"left\" or \"right\"')\n",
    "if lr == \"left\" or lr == \"Left\":\n",
    "    sw = input(\n",
    "        'You\\'ve come to a Garden. There is an Giant statue in the middle of the Garden. Type \"wait\" to wait for a Guide. Type \"move\" to move across.'\n",
    "    )\n",
    "    if (sw == \"wait\"):\n",
    "        door = input(\n",
    "            \"You arrive at the Garden unharmed. There is a park with 3 color flowers. One red, one yellow and one blue. Which colour do you choose?\"\n",
    "        )\n",
    "        if (door == \"red\" or door == \"Red\"):\n",
    "            print(\"It's a lovely rose . You win !!!\")\n",
    "        elif (door == \"yellow\" or door == \"Yellow\"):\n",
    "            print(\"You found sunflower!NOPES!!!Game over!\")\n",
    "        elif (door == \"blue\" or door == \"Blue\"):\n",
    "            print(\"You found blue lillies. Game Over.\")\n",
    "        else:\n",
    "            print(\"You chose a wrong color that doesn't exist. Game Over.\")\n",
    "    else:\n",
    "        print(\"You get Stucked in Garden. Game Over.\")\n",
    "else:\n",
    "    print(\"You fell into a hole. Game Over.\")\n"
   ]
  },
  {
   "cell_type": "code",
   "execution_count": null,
   "id": "6088f6f1",
   "metadata": {},
   "outputs": [],
   "source": []
  }
 ],
 "metadata": {
  "kernelspec": {
   "display_name": "Python 3",
   "language": "python",
   "name": "python3"
  },
  "language_info": {
   "codemirror_mode": {
    "name": "ipython",
    "version": 3
   },
   "file_extension": ".py",
   "mimetype": "text/x-python",
   "name": "python",
   "nbconvert_exporter": "python",
   "pygments_lexer": "ipython3",
   "version": "3.8.8"
  }
 },
 "nbformat": 4,
 "nbformat_minor": 5
}
