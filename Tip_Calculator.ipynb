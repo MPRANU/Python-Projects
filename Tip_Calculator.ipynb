{
 "cells": [
  {
   "cell_type": "code",
   "execution_count": 1,
   "id": "47d8ed61",
   "metadata": {},
   "outputs": [
    {
     "name": "stdout",
     "output_type": "stream",
     "text": [
      "Welcome to the calculator.\n",
      "What was the total bill? $150\n",
      "What percentage tip would you like to give? 10,12, or 15? 12\n",
      "How many people to split the bill? 6\n",
      "Each person should pay: $ 28.0\n"
     ]
    }
   ],
   "source": [
    "#If the bill was $150.00, split between 5 people, with 12% tip. \n",
    "\n",
    "#Each person should pay (150.00 / 5) * 1.12 = 33.6\n",
    "#Format the result to 2 decimal places = 33.60\n",
    "\n",
    "#Tip: There are 2 ways to round a number. You might have to do some Googling to solve this.💪\n",
    "\n",
    "#Write your code below this line 👇\n",
    "print(\"Welcome to the calculator.\")\n",
    "total_bill=float(input(\"What was the total bill? $\"))\n",
    "percentage=int(input(\"What percentage tip would you like to give? 10,12, or 15? \"))\n",
    "count=int(input(\"How many people to split the bill? \"))\n",
    "tip=percentage/100 *total_bill+total_bill\n",
    "\n",
    "pay_amount=tip/count\n",
    "print(\"Each person should pay: $\",round(pay_amount,2))"
   ]
  },
  {
   "cell_type": "code",
   "execution_count": null,
   "id": "d1d68056",
   "metadata": {},
   "outputs": [],
   "source": []
  }
 ],
 "metadata": {
  "kernelspec": {
   "display_name": "Python 3",
   "language": "python",
   "name": "python3"
  },
  "language_info": {
   "codemirror_mode": {
    "name": "ipython",
    "version": 3
   },
   "file_extension": ".py",
   "mimetype": "text/x-python",
   "name": "python",
   "nbconvert_exporter": "python",
   "pygments_lexer": "ipython3",
   "version": "3.8.8"
  }
 },
 "nbformat": 4,
 "nbformat_minor": 5
}
