{
 "cells": [
  {
   "cell_type": "code",
   "execution_count": 1,
   "id": "2c11bb00",
   "metadata": {},
   "outputs": [
    {
     "name": "stdout",
     "output_type": "stream",
     "text": [
      "What is your current age? 25\n",
      "You have 23725 days, 3380 weeks, and 780 months left in your life.\n"
     ]
    }
   ],
   "source": [
    "age = input(\"What is your current age? \")\n",
    "age_int = int(age)\n",
    "total_days=90*365\n",
    "live_days=age_int*365\n",
    "total_weeks=90*52\n",
    "live_weeks=age_int*52\n",
    "total_months=90*12\n",
    "live_month=age_int*12\n",
    "\n",
    "left_days=total_days-live_days\n",
    "left_weeks=total_weeks-live_weeks\n",
    "left_months=total_months-live_month\n",
    "\n",
    "print(f\"You have {left_days} days, {left_weeks} weeks, and {left_months} months left in your life.\")#f-string is used\n",
    "\n",
    "\n",
    "\n"
   ]
  },
  {
   "cell_type": "code",
   "execution_count": null,
   "id": "152483e1",
   "metadata": {},
   "outputs": [],
   "source": []
  }
 ],
 "metadata": {
  "kernelspec": {
   "display_name": "Python 3",
   "language": "python",
   "name": "python3"
  },
  "language_info": {
   "codemirror_mode": {
    "name": "ipython",
    "version": 3
   },
   "file_extension": ".py",
   "mimetype": "text/x-python",
   "name": "python",
   "nbconvert_exporter": "python",
   "pygments_lexer": "ipython3",
   "version": "3.8.8"
  }
 },
 "nbformat": 4,
 "nbformat_minor": 5
}
